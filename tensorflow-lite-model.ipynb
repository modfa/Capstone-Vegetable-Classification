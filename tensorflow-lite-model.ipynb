{
 "cells": [
  {
   "cell_type": "code",
   "execution_count": 3,
   "id": "0bf474c9",
   "metadata": {},
   "outputs": [
    {
     "data": {
      "text/plain": [
       "'2.10.0'"
      ]
     },
     "execution_count": 3,
     "metadata": {},
     "output_type": "execute_result"
    }
   ],
   "source": [
    "#importing the necessary packages\n",
    "\n",
    "import tensorflow as tf\n",
    "from tensorflow import keras\n",
    "tf.__version__"
   ]
  },
  {
   "cell_type": "code",
   "execution_count": 4,
   "id": "f8000052",
   "metadata": {},
   "outputs": [
    {
     "name": "stderr",
     "output_type": "stream",
     "text": [
      "2022-12-19 23:05:07.362844: I tensorflow/core/platform/cpu_feature_guard.cc:193] This TensorFlow binary is optimized with oneAPI Deep Neural Network Library (oneDNN) to use the following CPU instructions in performance-critical operations:  SSE4.1 SSE4.2\n",
      "To enable them in other operations, rebuild TensorFlow with the appropriate compiler flags.\n",
      "2022-12-19 23:05:07.427472: I tensorflow/core/common_runtime/process_util.cc:146] Creating new thread pool with default inter op setting: 2. Tune using inter_op_parallelism_threads for best performance.\n"
     ]
    }
   ],
   "source": [
    "model = keras.models.load_model('xception_v4_1_10_0.998.h5')"
   ]
  },
  {
   "cell_type": "code",
   "execution_count": 9,
   "id": "72f4de9f",
   "metadata": {},
   "outputs": [],
   "source": [
    "from tensorflow.keras.preprocessing.image import load_img\n",
    "from tensorflow.keras.applications.xception import preprocess_input"
   ]
  },
  {
   "cell_type": "code",
   "execution_count": 21,
   "id": "be71e939",
   "metadata": {},
   "outputs": [],
   "source": [
    "img = load_img('capsicum.jpeg', target_size=(299,299))"
   ]
  },
  {
   "cell_type": "code",
   "execution_count": 22,
   "id": "06a85c34",
   "metadata": {},
   "outputs": [],
   "source": [
    "import numpy as np"
   ]
  },
  {
   "cell_type": "code",
   "execution_count": 23,
   "id": "7fa6b65d",
   "metadata": {},
   "outputs": [],
   "source": [
    "x = np.array(img)\n",
    "X = np.array([x])\n",
    "X = preprocess_input(X)\n"
   ]
  },
  {
   "cell_type": "code",
   "execution_count": 24,
   "id": "b1a0f70e",
   "metadata": {},
   "outputs": [
    {
     "name": "stdout",
     "output_type": "stream",
     "text": [
      "1/1 [==============================] - 2s 2s/step\n"
     ]
    }
   ],
   "source": [
    "preds = model.predict(X)"
   ]
  },
  {
   "cell_type": "code",
   "execution_count": 25,
   "id": "74329c6d",
   "metadata": {},
   "outputs": [],
   "source": [
    "classes = [\n",
    "    'Bean',\n",
    "    'Bitter_Gourd',\n",
    " 'Bottle_Gourd',\n",
    " 'Brinjal',\n",
    " 'Broccoli',\n",
    " 'Cabbage',\n",
    " 'Capsicum',\n",
    " 'Carrot',\n",
    " 'Cauliflower',\n",
    " 'Cucumber',\n",
    " 'Papaya',\n",
    " 'Potato',\n",
    " 'Pumpkin',\n",
    " 'Radish',\n",
    " 'Tomato']\n"
   ]
  },
  {
   "cell_type": "code",
   "execution_count": 26,
   "id": "c8cff713",
   "metadata": {},
   "outputs": [
    {
     "data": {
      "text/plain": [
       "{'Bean': -0.28128734,\n",
       " 'Bitter_Gourd': -2.9696662,\n",
       " 'Bottle_Gourd': 0.06928816,\n",
       " 'Brinjal': -3.4746149,\n",
       " 'Broccoli': -1.3456322,\n",
       " 'Cabbage': -6.085357,\n",
       " 'Capsicum': 15.849345,\n",
       " 'Carrot': -4.867174,\n",
       " 'Cauliflower': -3.699632,\n",
       " 'Cucumber': -10.427808,\n",
       " 'Papaya': 3.4041345,\n",
       " 'Potato': -12.156144,\n",
       " 'Pumpkin': -15.335313,\n",
       " 'Radish': -7.034167,\n",
       " 'Tomato': 4.336424}"
      ]
     },
     "execution_count": 26,
     "metadata": {},
     "output_type": "execute_result"
    }
   ],
   "source": [
    "dict(zip(classes, preds[0]))"
   ]
  },
  {
   "cell_type": "markdown",
   "id": "3f1fb7a8",
   "metadata": {},
   "source": [
    "## Convert Keras to TFLite"
   ]
  },
  {
   "cell_type": "code",
   "execution_count": 27,
   "id": "ec5008a1",
   "metadata": {},
   "outputs": [
    {
     "name": "stderr",
     "output_type": "stream",
     "text": [
      "WARNING:absl:Found untraced functions such as _jit_compiled_convolution_op, _jit_compiled_convolution_op, _jit_compiled_convolution_op, _jit_compiled_convolution_op, _jit_compiled_convolution_op while saving (showing 5 of 40). These functions will not be directly callable after loading.\n"
     ]
    },
    {
     "name": "stdout",
     "output_type": "stream",
     "text": [
      "INFO:tensorflow:Assets written to: /tmp/tmpv90a5ebq/assets\n"
     ]
    },
    {
     "name": "stderr",
     "output_type": "stream",
     "text": [
      "INFO:tensorflow:Assets written to: /tmp/tmpv90a5ebq/assets\n",
      "2022-12-19 23:49:11.862774: W tensorflow/compiler/mlir/lite/python/tf_tfl_flatbuffer_helpers.cc:362] Ignored output_format.\n",
      "2022-12-19 23:49:11.862918: W tensorflow/compiler/mlir/lite/python/tf_tfl_flatbuffer_helpers.cc:365] Ignored drop_control_dependency.\n",
      "2022-12-19 23:49:12.016763: I tensorflow/cc/saved_model/reader.cc:45] Reading SavedModel from: /tmp/tmpv90a5ebq\n",
      "2022-12-19 23:49:12.166348: I tensorflow/cc/saved_model/reader.cc:89] Reading meta graph with tags { serve }\n",
      "2022-12-19 23:49:12.166466: I tensorflow/cc/saved_model/reader.cc:130] Reading SavedModel debug info (if present) from: /tmp/tmpv90a5ebq\n",
      "2022-12-19 23:49:12.259534: I tensorflow/core/common_runtime/process_util.cc:146] Creating new thread pool with default inter op setting: 2. Tune using inter_op_parallelism_threads for best performance.\n",
      "2022-12-19 23:49:12.424859: I tensorflow/compiler/mlir/mlir_graph_optimization_pass.cc:354] MLIR V1 optimization pass is not enabled\n",
      "2022-12-19 23:49:12.521127: I tensorflow/cc/saved_model/loader.cc:229] Restoring SavedModel bundle.\n",
      "2022-12-19 23:49:14.661423: I tensorflow/cc/saved_model/loader.cc:213] Running initialization op on SavedModel bundle at path: /tmp/tmpv90a5ebq\n",
      "2022-12-19 23:49:15.153376: I tensorflow/cc/saved_model/loader.cc:305] SavedModel load for tags { serve }; Status: success: OK. Took 3180592 microseconds.\n",
      "2022-12-19 23:49:16.642318: I tensorflow/compiler/mlir/tensorflow/utils/dump_mlir_util.cc:268] disabling MLIR crash reproducer, set env var `MLIR_CRASH_REPRODUCER_DIRECTORY` to enable.\n",
      "2022-12-19 23:49:17.800013: I tensorflow/core/common_runtime/process_util.cc:146] Creating new thread pool with default inter op setting: 2. Tune using inter_op_parallelism_threads for best performance.\n"
     ]
    }
   ],
   "source": [
    "converter = tf.lite.TFLiteConverter.from_keras_model(model)\n",
    "tflite_model = converter.convert()\n",
    "with open('vegclass-model.tflite', 'wb') as f_out:\n",
    "    f_out.write(tflite_model)"
   ]
  },
  {
   "cell_type": "code",
   "execution_count": null,
   "id": "370595ff",
   "metadata": {},
   "outputs": [],
   "source": []
  },
  {
   "cell_type": "code",
   "execution_count": 1,
   "id": "a167c950",
   "metadata": {},
   "outputs": [
    {
     "name": "stderr",
     "output_type": "stream",
     "text": [
      "2022-12-20 00:19:13.709237: I tensorflow/core/platform/cpu_feature_guard.cc:193] This TensorFlow binary is optimized with oneAPI Deep Neural Network Library (oneDNN) to use the following CPU instructions in performance-critical operations:  SSE4.1 SSE4.2\n",
      "To enable them in other operations, rebuild TensorFlow with the appropriate compiler flags.\n"
     ]
    }
   ],
   "source": [
    "import tensorflow.lite as tflite"
   ]
  },
  {
   "cell_type": "code",
   "execution_count": 2,
   "id": "6b7c8c27",
   "metadata": {},
   "outputs": [
    {
     "name": "stderr",
     "output_type": "stream",
     "text": [
      "INFO: Created TensorFlow Lite XNNPACK delegate for CPU.\n"
     ]
    }
   ],
   "source": [
    "interpreter = tflite.Interpreter(model_path='vegclass-model.tflite')\n",
    "interpreter.allocate_tensors()"
   ]
  },
  {
   "cell_type": "code",
   "execution_count": 3,
   "id": "159cee2a",
   "metadata": {},
   "outputs": [],
   "source": [
    "input_index = interpreter.get_input_details()[0]['index']"
   ]
  },
  {
   "cell_type": "code",
   "execution_count": 4,
   "id": "f9f2f78e",
   "metadata": {},
   "outputs": [],
   "source": [
    "output_index = interpreter.get_output_details()[0]['index']"
   ]
  },
  {
   "cell_type": "code",
   "execution_count": 6,
   "id": "a26820af",
   "metadata": {},
   "outputs": [],
   "source": [
    "interpreter.set_tensor(input_index, X)"
   ]
  },
  {
   "cell_type": "code",
   "execution_count": null,
   "id": "ff00e55a",
   "metadata": {},
   "outputs": [],
   "source": [
    "interpreter.invoke()"
   ]
  },
  {
   "cell_type": "code",
   "execution_count": 41,
   "id": "3a0e163d",
   "metadata": {},
   "outputs": [],
   "source": [
    "preds = interpreter.get_tensor(output_index)"
   ]
  },
  {
   "cell_type": "code",
   "execution_count": 42,
   "id": "2a2bff65",
   "metadata": {},
   "outputs": [
    {
     "data": {
      "text/plain": [
       "{'Bean': -0.28129038,\n",
       " 'Bitter_Gourd': -2.969659,\n",
       " 'Bottle_Gourd': 0.06928937,\n",
       " 'Brinjal': -3.4746141,\n",
       " 'Broccoli': -1.3456353,\n",
       " 'Cabbage': -6.0853596,\n",
       " 'Capsicum': 15.849351,\n",
       " 'Carrot': -4.8671756,\n",
       " 'Cauliflower': -3.699637,\n",
       " 'Cucumber': -10.42781,\n",
       " 'Papaya': 3.404147,\n",
       " 'Potato': -12.156142,\n",
       " 'Pumpkin': -15.335322,\n",
       " 'Radish': -7.0341763,\n",
       " 'Tomato': 4.33642}"
      ]
     },
     "execution_count": 42,
     "metadata": {},
     "output_type": "execute_result"
    }
   ],
   "source": [
    "classes = [\n",
    "    'Bean',\n",
    "    'Bitter_Gourd',\n",
    " 'Bottle_Gourd',\n",
    " 'Brinjal',\n",
    " 'Broccoli',\n",
    " 'Cabbage',\n",
    " 'Capsicum',\n",
    " 'Carrot',\n",
    " 'Cauliflower',\n",
    " 'Cucumber',\n",
    " 'Papaya',\n",
    " 'Potato',\n",
    " 'Pumpkin',\n",
    " 'Radish',\n",
    " 'Tomato']\n",
    "dict(zip(classes, preds[0]))"
   ]
  },
  {
   "cell_type": "markdown",
   "id": "bf6f9f7d",
   "metadata": {},
   "source": [
    "### Removing the TF Dependency"
   ]
  },
  {
   "cell_type": "code",
   "execution_count": 14,
   "id": "fa00de51",
   "metadata": {},
   "outputs": [
    {
     "name": "stdout",
     "output_type": "stream",
     "text": [
      "Requirement already satisfied: tflite-runtime in /home/modf/anaconda3/lib/python3.9/site-packages (2.10.0)\r\n",
      "Requirement already satisfied: numpy>=1.19.2 in /home/modf/anaconda3/lib/python3.9/site-packages (from tflite-runtime) (1.21.5)\r\n"
     ]
    }
   ],
   "source": [
    "!python3 -m pip install tflite-runtime"
   ]
  },
  {
   "cell_type": "code",
   "execution_count": 1,
   "id": "4835e712",
   "metadata": {},
   "outputs": [],
   "source": [
    "import tflite_runtime.interpreter as tflite\n",
    "from keras_image_helper import create_preprocessor"
   ]
  },
  {
   "cell_type": "code",
   "execution_count": 2,
   "id": "da1edd9d",
   "metadata": {},
   "outputs": [
    {
     "name": "stderr",
     "output_type": "stream",
     "text": [
      "INFO: Created TensorFlow Lite XNNPACK delegate for CPU.\n"
     ]
    }
   ],
   "source": [
    "interpreter = tflite.Interpreter(model_path='vegclass-model.tflite')\n",
    "interpreter.allocate_tensors()\n",
    "input_index = interpreter.get_input_details()[0]['index']\n",
    "output_index = interpreter.get_output_details()[0]['index']"
   ]
  },
  {
   "cell_type": "code",
   "execution_count": 3,
   "id": "e2eb1bff",
   "metadata": {},
   "outputs": [],
   "source": [
    "preprocessor = create_preprocessor('xception', target_size=(299,299))"
   ]
  },
  {
   "cell_type": "code",
   "execution_count": 4,
   "id": "e9ec78ba",
   "metadata": {},
   "outputs": [],
   "source": [
    "X = preprocessor.from_path('capsicum.jpeg')"
   ]
  },
  {
   "cell_type": "code",
   "execution_count": 5,
   "id": "c65ac6e9",
   "metadata": {},
   "outputs": [],
   "source": [
    "# load_img('capsicum.jpeg')"
   ]
  },
  {
   "cell_type": "code",
   "execution_count": 6,
   "id": "140f915e",
   "metadata": {},
   "outputs": [],
   "source": [
    "interpreter.set_tensor(input_index, X)\n",
    "interpreter.invoke()\n",
    "preds = interpreter.get_tensor(output_index)"
   ]
  },
  {
   "cell_type": "code",
   "execution_count": 7,
   "id": "ec74fdca",
   "metadata": {},
   "outputs": [
    {
     "data": {
      "text/plain": [
       "{'Bean': -0.28129038,\n",
       " 'Bitter_Gourd': -2.969659,\n",
       " 'Bottle_Gourd': 0.06928937,\n",
       " 'Brinjal': -3.4746141,\n",
       " 'Broccoli': -1.3456353,\n",
       " 'Cabbage': -6.0853596,\n",
       " 'Capsicum': 15.849351,\n",
       " 'Carrot': -4.8671756,\n",
       " 'Cauliflower': -3.699637,\n",
       " 'Cucumber': -10.42781,\n",
       " 'Papaya': 3.404147,\n",
       " 'Potato': -12.156142,\n",
       " 'Pumpkin': -15.335322,\n",
       " 'Radish': -7.0341763,\n",
       " 'Tomato': 4.33642}"
      ]
     },
     "execution_count": 7,
     "metadata": {},
     "output_type": "execute_result"
    }
   ],
   "source": [
    "classes = [\n",
    "    'Bean',\n",
    "    'Bitter_Gourd',\n",
    " 'Bottle_Gourd',\n",
    " 'Brinjal',\n",
    " 'Broccoli',\n",
    " 'Cabbage',\n",
    " 'Capsicum',\n",
    " 'Carrot',\n",
    " 'Cauliflower',\n",
    " 'Cucumber',\n",
    " 'Papaya',\n",
    " 'Potato',\n",
    " 'Pumpkin',\n",
    " 'Radish',\n",
    " 'Tomato']\n",
    "dict(zip(classes, preds[0]))"
   ]
  },
  {
   "cell_type": "code",
   "execution_count": null,
   "id": "5ce2dbeb",
   "metadata": {},
   "outputs": [],
   "source": []
  }
 ],
 "metadata": {
  "kernelspec": {
   "display_name": "Python 3 (ipykernel)",
   "language": "python",
   "name": "python3"
  },
  "language_info": {
   "codemirror_mode": {
    "name": "ipython",
    "version": 3
   },
   "file_extension": ".py",
   "mimetype": "text/x-python",
   "name": "python",
   "nbconvert_exporter": "python",
   "pygments_lexer": "ipython3",
   "version": "3.9.15"
  }
 },
 "nbformat": 4,
 "nbformat_minor": 5
}
